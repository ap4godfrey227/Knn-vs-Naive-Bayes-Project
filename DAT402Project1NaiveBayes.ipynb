{
 "cells": [
  {
   "cell_type": "markdown",
   "id": "d1389995",
   "metadata": {},
   "source": [
    "# Where we left off\n",
    "\n",
    "After we determined the k nearest neighbors method wasnt that effective, I decided to reform my approach to explore a different method.\n",
    "\n",
    "This time I wanted to incorporate more of the variables provided so I decided to change the variable I wanted to predict. Now, I will try to predict the season based off of various values that someone could easily get from the daily weather report.\n",
    "\n",
    "So, lets begin the process."
   ]
  },
  {
   "cell_type": "code",
   "execution_count": 63,
   "id": "acdcc773",
   "metadata": {},
   "outputs": [],
   "source": [
    "import pandas as pd\n",
    "import matplotlib.pyplot as plt\n",
    "import numpy as np\n",
    "from sklearn.preprocessing import OrdinalEncoder\n",
    "from sklearn.naive_bayes import MultinomialNB, CategoricalNB\n",
    "\n",
    "from sklearn.metrics import confusion_matrix\n",
    "from sklearn.metrics import accuracy_score"
   ]
  },
  {
   "cell_type": "code",
   "execution_count": 95,
   "id": "d4dd3557",
   "metadata": {},
   "outputs": [
    {
     "name": "stdout",
     "output_type": "stream",
     "text": [
      "(10957, 14)\n"
     ]
    },
    {
     "data": {
      "text/html": [
       "<div>\n",
       "<style scoped>\n",
       "    .dataframe tbody tr th:only-of-type {\n",
       "        vertical-align: middle;\n",
       "    }\n",
       "\n",
       "    .dataframe tbody tr th {\n",
       "        vertical-align: top;\n",
       "    }\n",
       "\n",
       "    .dataframe thead th {\n",
       "        text-align: right;\n",
       "    }\n",
       "</style>\n",
       "<table border=\"1\" class=\"dataframe\">\n",
       "  <thead>\n",
       "    <tr style=\"text-align: right;\">\n",
       "      <th></th>\n",
       "      <th>Date</th>\n",
       "      <th>Precipitation</th>\n",
       "      <th>PanEvaporation</th>\n",
       "      <th>MeanTemp</th>\n",
       "      <th>MeanWindSpeed</th>\n",
       "      <th>SolarRadiation</th>\n",
       "      <th>FAOShortGrassEto</th>\n",
       "      <th>DaylightStationPressure</th>\n",
       "      <th>DaylightHumidity</th>\n",
       "      <th>SkyCoverage</th>\n",
       "      <th>DaylightTemp</th>\n",
       "      <th>DaylightBroadbandAerosol</th>\n",
       "      <th>WindSpeed</th>\n",
       "      <th>WindDirection</th>\n",
       "    </tr>\n",
       "  </thead>\n",
       "  <tbody>\n",
       "    <tr>\n",
       "      <th>0</th>\n",
       "      <td>10161</td>\n",
       "      <td>0.0</td>\n",
       "      <td>0.22</td>\n",
       "      <td>8.1</td>\n",
       "      <td>118.5</td>\n",
       "      <td>294.8</td>\n",
       "      <td>1.5</td>\n",
       "      <td>97.8</td>\n",
       "      <td>45</td>\n",
       "      <td>0</td>\n",
       "      <td>12.1</td>\n",
       "      <td>0.117</td>\n",
       "      <td>0.4</td>\n",
       "      <td>0</td>\n",
       "    </tr>\n",
       "    <tr>\n",
       "      <th>1</th>\n",
       "      <td>10261</td>\n",
       "      <td>0.0</td>\n",
       "      <td>0.25</td>\n",
       "      <td>8.0</td>\n",
       "      <td>121.8</td>\n",
       "      <td>295.4</td>\n",
       "      <td>1.7</td>\n",
       "      <td>98.0</td>\n",
       "      <td>35</td>\n",
       "      <td>0</td>\n",
       "      <td>12.4</td>\n",
       "      <td>0.092</td>\n",
       "      <td>0.0</td>\n",
       "      <td>0</td>\n",
       "    </tr>\n",
       "    <tr>\n",
       "      <th>2</th>\n",
       "      <td>10361</td>\n",
       "      <td>0.0</td>\n",
       "      <td>0.32</td>\n",
       "      <td>9.6</td>\n",
       "      <td>171.0</td>\n",
       "      <td>297.9</td>\n",
       "      <td>2.2</td>\n",
       "      <td>98.3</td>\n",
       "      <td>30</td>\n",
       "      <td>0</td>\n",
       "      <td>14.0</td>\n",
       "      <td>0.092</td>\n",
       "      <td>1.8</td>\n",
       "      <td>50</td>\n",
       "    </tr>\n",
       "    <tr>\n",
       "      <th>3</th>\n",
       "      <td>10461</td>\n",
       "      <td>0.0</td>\n",
       "      <td>0.27</td>\n",
       "      <td>10.1</td>\n",
       "      <td>110.1</td>\n",
       "      <td>256.1</td>\n",
       "      <td>1.6</td>\n",
       "      <td>98.2</td>\n",
       "      <td>32</td>\n",
       "      <td>2</td>\n",
       "      <td>14.3</td>\n",
       "      <td>0.128</td>\n",
       "      <td>0.7</td>\n",
       "      <td>0</td>\n",
       "    </tr>\n",
       "    <tr>\n",
       "      <th>4</th>\n",
       "      <td>10561</td>\n",
       "      <td>0.0</td>\n",
       "      <td>0.35</td>\n",
       "      <td>12.2</td>\n",
       "      <td>167.3</td>\n",
       "      <td>271.0</td>\n",
       "      <td>2.3</td>\n",
       "      <td>97.7</td>\n",
       "      <td>32</td>\n",
       "      <td>5</td>\n",
       "      <td>15.9</td>\n",
       "      <td>0.055</td>\n",
       "      <td>3.3</td>\n",
       "      <td>80</td>\n",
       "    </tr>\n",
       "  </tbody>\n",
       "</table>\n",
       "</div>"
      ],
      "text/plain": [
       "    Date  Precipitation  PanEvaporation  MeanTemp  MeanWindSpeed  \\\n",
       "0  10161            0.0            0.22       8.1          118.5   \n",
       "1  10261            0.0            0.25       8.0          121.8   \n",
       "2  10361            0.0            0.32       9.6          171.0   \n",
       "3  10461            0.0            0.27      10.1          110.1   \n",
       "4  10561            0.0            0.35      12.2          167.3   \n",
       "\n",
       "   SolarRadiation  FAOShortGrassEto  DaylightStationPressure  \\\n",
       "0           294.8               1.5                     97.8   \n",
       "1           295.4               1.7                     98.0   \n",
       "2           297.9               2.2                     98.3   \n",
       "3           256.1               1.6                     98.2   \n",
       "4           271.0               2.3                     97.7   \n",
       "\n",
       "   DaylightHumidity  SkyCoverage  DaylightTemp  DaylightBroadbandAerosol  \\\n",
       "0                45            0          12.1                     0.117   \n",
       "1                35            0          12.4                     0.092   \n",
       "2                30            0          14.0                     0.092   \n",
       "3                32            2          14.3                     0.128   \n",
       "4                32            5          15.9                     0.055   \n",
       "\n",
       "   WindSpeed  WindDirection  \n",
       "0        0.4              0  \n",
       "1        0.0              0  \n",
       "2        1.8             50  \n",
       "3        0.7              0  \n",
       "4        3.3             80  "
      ]
     },
     "execution_count": 95,
     "metadata": {},
     "output_type": "execute_result"
    }
   ],
   "source": [
    "df = pd.read_csv('arizonaWeather.csv', sep=',', index_col=False, header=None, names=[\"Date\", \"Precipitation\", \"PanEvaporation\", \"MeanTemp\", \"MeanWindSpeed\", \"SolarRadiation\", \"FAOShortGrassEto\", \"DaylightStationPressure\", \"DaylightHumidity\", \"SkyCoverage\", \"DaylightTemp\", \"DaylightBroadbandAerosol\", \"WindSpeed\", \"WindDirection\"])\n",
    "\n",
    "print(df.shape)\n",
    "df.head()\n"
   ]
  },
  {
   "cell_type": "markdown",
   "id": "e1dced41",
   "metadata": {},
   "source": [
    "## Data Munging\n",
    "\n",
    "As we can see there are quite a few data values that are not so commonly known or available to the average civilian so to make the model more applicable, we will remove the variables for now and reevaluate if we should consider them later.\n",
    "\n",
    "The variables we will remove are Pan Evaporation, Solar Radiation, FAO Short Grass Eto, Daylight Station Pressure, and Daylight Broadband Aerosol.\n",
    "\n",
    "Every other variable should be relatively easy to obtain from a simple web search of the weather for the day."
   ]
  },
  {
   "cell_type": "code",
   "execution_count": 96,
   "id": "4138b418",
   "metadata": {},
   "outputs": [
    {
     "name": "stdout",
     "output_type": "stream",
     "text": [
      "(10957, 9)\n"
     ]
    },
    {
     "data": {
      "text/html": [
       "<div>\n",
       "<style scoped>\n",
       "    .dataframe tbody tr th:only-of-type {\n",
       "        vertical-align: middle;\n",
       "    }\n",
       "\n",
       "    .dataframe tbody tr th {\n",
       "        vertical-align: top;\n",
       "    }\n",
       "\n",
       "    .dataframe thead th {\n",
       "        text-align: right;\n",
       "    }\n",
       "</style>\n",
       "<table border=\"1\" class=\"dataframe\">\n",
       "  <thead>\n",
       "    <tr style=\"text-align: right;\">\n",
       "      <th></th>\n",
       "      <th>Date</th>\n",
       "      <th>Precipitation</th>\n",
       "      <th>MeanTemp</th>\n",
       "      <th>MeanWindSpeed</th>\n",
       "      <th>DaylightHumidity</th>\n",
       "      <th>SkyCoverage</th>\n",
       "      <th>DaylightTemp</th>\n",
       "      <th>WindSpeed</th>\n",
       "      <th>WindDirection</th>\n",
       "    </tr>\n",
       "  </thead>\n",
       "  <tbody>\n",
       "    <tr>\n",
       "      <th>0</th>\n",
       "      <td>10161</td>\n",
       "      <td>0.0</td>\n",
       "      <td>8.1</td>\n",
       "      <td>118.5</td>\n",
       "      <td>45</td>\n",
       "      <td>0</td>\n",
       "      <td>12.1</td>\n",
       "      <td>0.4</td>\n",
       "      <td>0</td>\n",
       "    </tr>\n",
       "    <tr>\n",
       "      <th>1</th>\n",
       "      <td>10261</td>\n",
       "      <td>0.0</td>\n",
       "      <td>8.0</td>\n",
       "      <td>121.8</td>\n",
       "      <td>35</td>\n",
       "      <td>0</td>\n",
       "      <td>12.4</td>\n",
       "      <td>0.0</td>\n",
       "      <td>0</td>\n",
       "    </tr>\n",
       "    <tr>\n",
       "      <th>2</th>\n",
       "      <td>10361</td>\n",
       "      <td>0.0</td>\n",
       "      <td>9.6</td>\n",
       "      <td>171.0</td>\n",
       "      <td>30</td>\n",
       "      <td>0</td>\n",
       "      <td>14.0</td>\n",
       "      <td>1.8</td>\n",
       "      <td>50</td>\n",
       "    </tr>\n",
       "    <tr>\n",
       "      <th>3</th>\n",
       "      <td>10461</td>\n",
       "      <td>0.0</td>\n",
       "      <td>10.1</td>\n",
       "      <td>110.1</td>\n",
       "      <td>32</td>\n",
       "      <td>2</td>\n",
       "      <td>14.3</td>\n",
       "      <td>0.7</td>\n",
       "      <td>0</td>\n",
       "    </tr>\n",
       "    <tr>\n",
       "      <th>4</th>\n",
       "      <td>10561</td>\n",
       "      <td>0.0</td>\n",
       "      <td>12.2</td>\n",
       "      <td>167.3</td>\n",
       "      <td>32</td>\n",
       "      <td>5</td>\n",
       "      <td>15.9</td>\n",
       "      <td>3.3</td>\n",
       "      <td>80</td>\n",
       "    </tr>\n",
       "  </tbody>\n",
       "</table>\n",
       "</div>"
      ],
      "text/plain": [
       "    Date  Precipitation  MeanTemp  MeanWindSpeed  DaylightHumidity  \\\n",
       "0  10161            0.0       8.1          118.5                45   \n",
       "1  10261            0.0       8.0          121.8                35   \n",
       "2  10361            0.0       9.6          171.0                30   \n",
       "3  10461            0.0      10.1          110.1                32   \n",
       "4  10561            0.0      12.2          167.3                32   \n",
       "\n",
       "   SkyCoverage  DaylightTemp  WindSpeed  WindDirection  \n",
       "0            0          12.1        0.4              0  \n",
       "1            0          12.4        0.0              0  \n",
       "2            0          14.0        1.8             50  \n",
       "3            2          14.3        0.7              0  \n",
       "4            5          15.9        3.3             80  "
      ]
     },
     "execution_count": 96,
     "metadata": {},
     "output_type": "execute_result"
    }
   ],
   "source": [
    "df = df.drop(['PanEvaporation','SolarRadiation','FAOShortGrassEto','DaylightStationPressure','DaylightBroadbandAerosol'], axis = 1)\n",
    "print(df.shape)\n",
    "df.head()"
   ]
  },
  {
   "cell_type": "markdown",
   "id": "466df554",
   "metadata": {},
   "source": [
    "Additionally, since we are predicting the season for a given day in Phoenix, we need to make sure the computer knows what season each observation was taken in.\n",
    "\n",
    "Since the data set only provided the date of the observation, we will have to mutate the value to achieve our goal"
   ]
  },
  {
   "cell_type": "code",
   "execution_count": 98,
   "id": "a2c46f5d",
   "metadata": {},
   "outputs": [
    {
     "data": {
      "text/html": [
       "<div>\n",
       "<style scoped>\n",
       "    .dataframe tbody tr th:only-of-type {\n",
       "        vertical-align: middle;\n",
       "    }\n",
       "\n",
       "    .dataframe tbody tr th {\n",
       "        vertical-align: top;\n",
       "    }\n",
       "\n",
       "    .dataframe thead th {\n",
       "        text-align: right;\n",
       "    }\n",
       "</style>\n",
       "<table border=\"1\" class=\"dataframe\">\n",
       "  <thead>\n",
       "    <tr style=\"text-align: right;\">\n",
       "      <th></th>\n",
       "      <th>Date</th>\n",
       "      <th>Precipitation</th>\n",
       "      <th>MeanTemp</th>\n",
       "      <th>MeanWindSpeed</th>\n",
       "      <th>DaylightHumidity</th>\n",
       "      <th>SkyCoverage</th>\n",
       "      <th>DaylightTemp</th>\n",
       "      <th>WindSpeed</th>\n",
       "      <th>WindDirection</th>\n",
       "      <th>DayIndex</th>\n",
       "      <th>Month</th>\n",
       "      <th>Season</th>\n",
       "    </tr>\n",
       "  </thead>\n",
       "  <tbody>\n",
       "    <tr>\n",
       "      <th>0</th>\n",
       "      <td>10161</td>\n",
       "      <td>0.0</td>\n",
       "      <td>8.1</td>\n",
       "      <td>118.5</td>\n",
       "      <td>45</td>\n",
       "      <td>0</td>\n",
       "      <td>12.1</td>\n",
       "      <td>0.4</td>\n",
       "      <td>0</td>\n",
       "      <td>1</td>\n",
       "      <td>1</td>\n",
       "      <td>Winter</td>\n",
       "    </tr>\n",
       "    <tr>\n",
       "      <th>1</th>\n",
       "      <td>10261</td>\n",
       "      <td>0.0</td>\n",
       "      <td>8.0</td>\n",
       "      <td>121.8</td>\n",
       "      <td>35</td>\n",
       "      <td>0</td>\n",
       "      <td>12.4</td>\n",
       "      <td>0.0</td>\n",
       "      <td>0</td>\n",
       "      <td>2</td>\n",
       "      <td>1</td>\n",
       "      <td>Winter</td>\n",
       "    </tr>\n",
       "    <tr>\n",
       "      <th>2</th>\n",
       "      <td>10361</td>\n",
       "      <td>0.0</td>\n",
       "      <td>9.6</td>\n",
       "      <td>171.0</td>\n",
       "      <td>30</td>\n",
       "      <td>0</td>\n",
       "      <td>14.0</td>\n",
       "      <td>1.8</td>\n",
       "      <td>50</td>\n",
       "      <td>3</td>\n",
       "      <td>1</td>\n",
       "      <td>Winter</td>\n",
       "    </tr>\n",
       "    <tr>\n",
       "      <th>3</th>\n",
       "      <td>10461</td>\n",
       "      <td>0.0</td>\n",
       "      <td>10.1</td>\n",
       "      <td>110.1</td>\n",
       "      <td>32</td>\n",
       "      <td>2</td>\n",
       "      <td>14.3</td>\n",
       "      <td>0.7</td>\n",
       "      <td>0</td>\n",
       "      <td>4</td>\n",
       "      <td>1</td>\n",
       "      <td>Winter</td>\n",
       "    </tr>\n",
       "    <tr>\n",
       "      <th>4</th>\n",
       "      <td>10561</td>\n",
       "      <td>0.0</td>\n",
       "      <td>12.2</td>\n",
       "      <td>167.3</td>\n",
       "      <td>32</td>\n",
       "      <td>5</td>\n",
       "      <td>15.9</td>\n",
       "      <td>3.3</td>\n",
       "      <td>80</td>\n",
       "      <td>5</td>\n",
       "      <td>1</td>\n",
       "      <td>Winter</td>\n",
       "    </tr>\n",
       "  </tbody>\n",
       "</table>\n",
       "</div>"
      ],
      "text/plain": [
       "    Date  Precipitation  MeanTemp  MeanWindSpeed  DaylightHumidity  \\\n",
       "0  10161            0.0       8.1          118.5                45   \n",
       "1  10261            0.0       8.0          121.8                35   \n",
       "2  10361            0.0       9.6          171.0                30   \n",
       "3  10461            0.0      10.1          110.1                32   \n",
       "4  10561            0.0      12.2          167.3                32   \n",
       "\n",
       "   SkyCoverage  DaylightTemp  WindSpeed  WindDirection  DayIndex  Month  \\\n",
       "0            0          12.1        0.4              0         1      1   \n",
       "1            0          12.4        0.0              0         2      1   \n",
       "2            0          14.0        1.8             50         3      1   \n",
       "3            2          14.3        0.7              0         4      1   \n",
       "4            5          15.9        3.3             80         5      1   \n",
       "\n",
       "   Season  \n",
       "0  Winter  \n",
       "1  Winter  \n",
       "2  Winter  \n",
       "3  Winter  \n",
       "4  Winter  "
      ]
     },
     "execution_count": 98,
     "metadata": {},
     "output_type": "execute_result"
    }
   ],
   "source": [
    "# Convert the date to a string for easier parsing\n",
    "df.dtypes\n",
    "dateType = {'Date': str}\n",
    "df = df.astype(dateType)\n",
    "\n",
    "# Create an index to allow the machine to better understand the progression of time\n",
    "# This will allow it to account for potential rises in temperature year over year\n",
    "DayIndex = list(range(1,len(df)+1))\n",
    "df['DayIndex'] = DayIndex\n",
    "\n",
    "# Isolate the month value so that we can determine season\n",
    "Month = list(range(1,len(df)+1))\n",
    "df['Month'] = Month\n",
    "        \n",
    "for i in range(0, len(df)):\n",
    "    dateStr = df.at[i, 'Date']\n",
    "    if (len(dateStr) == 5):\n",
    "        df.at[i, 'Month'] = int(dateStr[0])\n",
    "    else:\n",
    "        df.at[i, 'Month'] = int(dateStr[0]+dateStr[1])\n",
    "\n",
    "# I elected to base season off of the meteorlogical standard (i.e. seasons start on the first of their equinox months)\n",
    "Season = str(list(range(1,len(df)+1)))\n",
    "df['Season'] = Season\n",
    "\n",
    "for i in range(0, len(df)):\n",
    "    #dateDay = df.at[i, 'Day']\n",
    "    dateMonth = df.at[i, 'Month']\n",
    "    if (dateMonth == 12 or dateMonth < 3):\n",
    "        df.at[i, 'Season'] = \"Winter\"\n",
    "    elif (dateMonth >=3 and dateMonth < 6):\n",
    "        df.at[i, 'Season'] = \"Spring\"\n",
    "    elif (dateMonth >=6 and dateMonth < 9):\n",
    "        df.at[i, 'Season'] = \"Summer\"\n",
    "    else:\n",
    "        df.at[i, 'Season'] = \"Autumn\"\n",
    "\n",
    "# Sanity check\n",
    "df.head()"
   ]
  },
  {
   "cell_type": "markdown",
   "id": "7c0d395c",
   "metadata": {},
   "source": [
    "<br>\n",
    "Lets also do a quick evaluation of the seasonal composition to make sure they are relatively even.\n",
    "\n",
    "<br>"
   ]
  },
  {
   "cell_type": "code",
   "execution_count": 99,
   "id": "1e274e51",
   "metadata": {},
   "outputs": [
    {
     "data": {
      "text/plain": [
       "Spring    0.251894\n",
       "Summer    0.251894\n",
       "Autumn    0.249156\n",
       "Winter    0.247057\n",
       "Name: Season, dtype: float64"
      ]
     },
     "execution_count": 99,
     "metadata": {},
     "output_type": "execute_result"
    }
   ],
   "source": [
    "df['Season'].value_counts(normalize=True)"
   ]
  },
  {
   "cell_type": "markdown",
   "id": "fe3a09b7",
   "metadata": {},
   "source": [
    "## Making Test and Train data\n",
    "\n",
    "Now we can go ahead an make the train and test sets. Like before, I will elect to have a 70-30 split of the data."
   ]
  },
  {
   "cell_type": "code",
   "execution_count": 71,
   "id": "e4b123ec",
   "metadata": {},
   "outputs": [
    {
     "name": "stdout",
     "output_type": "stream",
     "text": [
      "(7670, 11)\n",
      "(3287, 11)\n"
     ]
    }
   ],
   "source": [
    "np.random.seed(657)\n",
    "data_randomized = df.sample(frac=1)\n",
    "\n",
    "trainsize = round(len(data_randomized) * 0.70)\n",
    "\n",
    "# Split into training and test sets\n",
    "training_set = data_randomized[:trainsize].reset_index(drop=True)\n",
    "test_set = data_randomized[trainsize:].reset_index(drop=True)\n",
    "\n",
    "print(training_set.shape)\n",
    "print(test_set.shape)"
   ]
  },
  {
   "cell_type": "markdown",
   "id": "15799e27",
   "metadata": {},
   "source": [
    "<br>\n",
    "Just to be safe, lets make sure the two sets share a similar breakdown of seasonal variety"
   ]
  },
  {
   "cell_type": "code",
   "execution_count": 100,
   "id": "32780ced",
   "metadata": {},
   "outputs": [
    {
     "data": {
      "text/plain": [
       "Spring    0.255280\n",
       "Autumn    0.250587\n",
       "Summer    0.248501\n",
       "Winter    0.245632\n",
       "Name: Season, dtype: float64"
      ]
     },
     "execution_count": 100,
     "metadata": {},
     "output_type": "execute_result"
    }
   ],
   "source": [
    "training_set['Season'].value_counts(normalize=True)\n"
   ]
  },
  {
   "cell_type": "code",
   "execution_count": 101,
   "id": "bedfe439",
   "metadata": {},
   "outputs": [
    {
     "data": {
      "text/plain": [
       "Summer    0.259811\n",
       "Winter    0.250380\n",
       "Autumn    0.245817\n",
       "Spring    0.243991\n",
       "Name: Season, dtype: float64"
      ]
     },
     "execution_count": 101,
     "metadata": {},
     "output_type": "execute_result"
    }
   ],
   "source": [
    "test_set['Season'].value_counts(normalize=True)"
   ]
  },
  {
   "cell_type": "markdown",
   "id": "6ea13b1a",
   "metadata": {},
   "source": [
    "<br>\n",
    "Doing some final adjustments to the sets, we will need to make sure that the season and month categories we made are removed, as to not let the computer have it easy with the classifier."
   ]
  },
  {
   "cell_type": "code",
   "execution_count": 102,
   "id": "a1eb3f20",
   "metadata": {},
   "outputs": [
    {
     "data": {
      "text/html": [
       "<div>\n",
       "<style scoped>\n",
       "    .dataframe tbody tr th:only-of-type {\n",
       "        vertical-align: middle;\n",
       "    }\n",
       "\n",
       "    .dataframe tbody tr th {\n",
       "        vertical-align: top;\n",
       "    }\n",
       "\n",
       "    .dataframe thead th {\n",
       "        text-align: right;\n",
       "    }\n",
       "</style>\n",
       "<table border=\"1\" class=\"dataframe\">\n",
       "  <thead>\n",
       "    <tr style=\"text-align: right;\">\n",
       "      <th></th>\n",
       "      <th>Precipitation</th>\n",
       "      <th>MeanTemp</th>\n",
       "      <th>DaylightHumidity</th>\n",
       "      <th>SkyCoverage</th>\n",
       "      <th>DaylightTemp</th>\n",
       "      <th>WindSpeed</th>\n",
       "      <th>WindDirection</th>\n",
       "      <th>DayIndex</th>\n",
       "    </tr>\n",
       "  </thead>\n",
       "  <tbody>\n",
       "    <tr>\n",
       "      <th>0</th>\n",
       "      <td>0.00</td>\n",
       "      <td>13.7</td>\n",
       "      <td>52</td>\n",
       "      <td>2</td>\n",
       "      <td>16.2</td>\n",
       "      <td>2.6</td>\n",
       "      <td>280</td>\n",
       "      <td>7652</td>\n",
       "    </tr>\n",
       "    <tr>\n",
       "      <th>1</th>\n",
       "      <td>0.00</td>\n",
       "      <td>34.7</td>\n",
       "      <td>31</td>\n",
       "      <td>0</td>\n",
       "      <td>36.7</td>\n",
       "      <td>3.5</td>\n",
       "      <td>240</td>\n",
       "      <td>8259</td>\n",
       "    </tr>\n",
       "    <tr>\n",
       "      <th>2</th>\n",
       "      <td>0.00</td>\n",
       "      <td>25.5</td>\n",
       "      <td>33</td>\n",
       "      <td>4</td>\n",
       "      <td>27.7</td>\n",
       "      <td>6.4</td>\n",
       "      <td>253</td>\n",
       "      <td>1721</td>\n",
       "    </tr>\n",
       "    <tr>\n",
       "      <th>3</th>\n",
       "      <td>0.00</td>\n",
       "      <td>20.0</td>\n",
       "      <td>27</td>\n",
       "      <td>0</td>\n",
       "      <td>24.4</td>\n",
       "      <td>2.1</td>\n",
       "      <td>93</td>\n",
       "      <td>2130</td>\n",
       "    </tr>\n",
       "    <tr>\n",
       "      <th>4</th>\n",
       "      <td>1.12</td>\n",
       "      <td>21.7</td>\n",
       "      <td>56</td>\n",
       "      <td>10</td>\n",
       "      <td>23.6</td>\n",
       "      <td>2.8</td>\n",
       "      <td>255</td>\n",
       "      <td>9397</td>\n",
       "    </tr>\n",
       "  </tbody>\n",
       "</table>\n",
       "</div>"
      ],
      "text/plain": [
       "   Precipitation  MeanTemp  DaylightHumidity  SkyCoverage  DaylightTemp  \\\n",
       "0           0.00      13.7                52            2          16.2   \n",
       "1           0.00      34.7                31            0          36.7   \n",
       "2           0.00      25.5                33            4          27.7   \n",
       "3           0.00      20.0                27            0          24.4   \n",
       "4           1.12      21.7                56           10          23.6   \n",
       "\n",
       "   WindSpeed  WindDirection  DayIndex  \n",
       "0        2.6            280      7652  \n",
       "1        3.5            240      8259  \n",
       "2        6.4            253      1721  \n",
       "3        2.1             93      2130  \n",
       "4        2.8            255      9397  "
      ]
     },
     "execution_count": 102,
     "metadata": {},
     "output_type": "execute_result"
    }
   ],
   "source": [
    "trainX = training_set.iloc[:,1:-2]\n",
    "trainy = training_set['Season']\n",
    "\n",
    "colnames = trainX.columns\n",
    "\n",
    "testX = test_set.iloc[:,1:-2]\n",
    "testy = test_set['Season']\n",
    "\n",
    "trainX.head()"
   ]
  },
  {
   "cell_type": "markdown",
   "id": "a23d0602",
   "metadata": {},
   "source": [
    "<br>\n",
    "Now we encode our training values so that the machine can understand the data and how to classify it. We will also throw in a quick test to make sure the encoding process is working correctly."
   ]
  },
  {
   "cell_type": "code",
   "execution_count": 118,
   "id": "156940d0",
   "metadata": {},
   "outputs": [
    {
     "data": {
      "text/plain": [
       "array([3, 2, 0, 0, 0])"
      ]
     },
     "execution_count": 118,
     "metadata": {},
     "output_type": "execute_result"
    }
   ],
   "source": [
    "from sklearn.preprocessing import LabelEncoder\n",
    "le = LabelEncoder()\n",
    "trainLabels = le.fit_transform(trainy)\n",
    "\n",
    "from sklearn.preprocessing import OrdinalEncoder\n",
    "enc = OrdinalEncoder() \n",
    "trainX = enc.fit_transform(trainX)\n",
    "trainX = pd.DataFrame(trainX, columns=colnames) \n",
    "\n",
    "\n",
    "trainLabels[:5]"
   ]
  },
  {
   "cell_type": "code",
   "execution_count": 119,
   "id": "184e55fe",
   "metadata": {},
   "outputs": [
    {
     "data": {
      "text/plain": [
       "array(['Winter', 'Summer', 'Autumn', 'Autumn', 'Autumn'], dtype=object)"
      ]
     },
     "execution_count": 119,
     "metadata": {},
     "output_type": "execute_result"
    }
   ],
   "source": [
    "le.inverse_transform(trainLabels[:5])"
   ]
  },
  {
   "cell_type": "markdown",
   "id": "8d939325",
   "metadata": {},
   "source": [
    "\n",
    "## Modeling and Results\n",
    "\n",
    "It is time to create our model based off of the training data."
   ]
  },
  {
   "cell_type": "code",
   "execution_count": 120,
   "id": "7aa6a8b3",
   "metadata": {},
   "outputs": [
    {
     "data": {
      "text/plain": [
       "CategoricalNB()"
      ]
     },
     "execution_count": 120,
     "metadata": {},
     "output_type": "execute_result"
    }
   ],
   "source": [
    "model = CategoricalNB() \n",
    "model.fit(trainX,trainLabels) "
   ]
  },
  {
   "cell_type": "code",
   "execution_count": 121,
   "id": "d85e526c",
   "metadata": {},
   "outputs": [
    {
     "data": {
      "text/html": [
       "<div>\n",
       "<style scoped>\n",
       "    .dataframe tbody tr th:only-of-type {\n",
       "        vertical-align: middle;\n",
       "    }\n",
       "\n",
       "    .dataframe tbody tr th {\n",
       "        vertical-align: top;\n",
       "    }\n",
       "\n",
       "    .dataframe thead th {\n",
       "        text-align: right;\n",
       "    }\n",
       "</style>\n",
       "<table border=\"1\" class=\"dataframe\">\n",
       "  <thead>\n",
       "    <tr style=\"text-align: right;\">\n",
       "      <th>Season</th>\n",
       "      <th>Autumn</th>\n",
       "      <th>Spring</th>\n",
       "      <th>Summer</th>\n",
       "      <th>Winter</th>\n",
       "    </tr>\n",
       "    <tr>\n",
       "      <th>row_0</th>\n",
       "      <th></th>\n",
       "      <th></th>\n",
       "      <th></th>\n",
       "      <th></th>\n",
       "    </tr>\n",
       "  </thead>\n",
       "  <tbody>\n",
       "    <tr>\n",
       "      <th>0</th>\n",
       "      <td>1203</td>\n",
       "      <td>100</td>\n",
       "      <td>50</td>\n",
       "      <td>57</td>\n",
       "    </tr>\n",
       "    <tr>\n",
       "      <th>1</th>\n",
       "      <td>147</td>\n",
       "      <td>1407</td>\n",
       "      <td>104</td>\n",
       "      <td>96</td>\n",
       "    </tr>\n",
       "    <tr>\n",
       "      <th>2</th>\n",
       "      <td>270</td>\n",
       "      <td>137</td>\n",
       "      <td>1752</td>\n",
       "      <td>0</td>\n",
       "    </tr>\n",
       "    <tr>\n",
       "      <th>3</th>\n",
       "      <td>302</td>\n",
       "      <td>314</td>\n",
       "      <td>0</td>\n",
       "      <td>1731</td>\n",
       "    </tr>\n",
       "  </tbody>\n",
       "</table>\n",
       "</div>"
      ],
      "text/plain": [
       "Season  Autumn  Spring  Summer  Winter\n",
       "row_0                                 \n",
       "0         1203     100      50      57\n",
       "1          147    1407     104      96\n",
       "2          270     137    1752       0\n",
       "3          302     314       0    1731"
      ]
     },
     "execution_count": 121,
     "metadata": {},
     "output_type": "execute_result"
    }
   ],
   "source": [
    "yhattrain = model.predict(trainX)\n",
    "pd.crosstab(yhattrain, trainy)"
   ]
  },
  {
   "cell_type": "code",
   "execution_count": 122,
   "id": "c84993f8",
   "metadata": {},
   "outputs": [
    {
     "data": {
      "text/plain": [
       "0.794393741851369"
      ]
     },
     "execution_count": 122,
     "metadata": {},
     "output_type": "execute_result"
    }
   ],
   "source": [
    "accuracy_score(yhattrain, trainLabels)"
   ]
  },
  {
   "cell_type": "markdown",
   "id": "66b10a17",
   "metadata": {},
   "source": [
    "While it does not seem to be the most perfect model, it did do a decent job at correctly classifying the season about 80% of the time. \n",
    "\n",
    "We can see from the confusion matrix that the diagonal is the amount of correct classifications and the other numbers are the amount of times it guessed a different season.\n",
    "\n",
    "For example, we can see that of all of the times the observations were from the Summer, the classifier did not guess Winter a single time, and vice versa for Winter data. At very least, that is a good start for a prediction generator.\n",
    "\n",
    "It seems like the machine has the most issues with determining Autumn and Spring data, which on some degree makes sense. Autumn and Spring exhibit very similar temperature ranges as they both are the middle grounds for the extreme seasons (Spring and Summer). "
   ]
  },
  {
   "cell_type": "code",
   "execution_count": 123,
   "id": "a5604305",
   "metadata": {},
   "outputs": [],
   "source": [
    "le = LabelEncoder() \n",
    "testLabels = le.fit_transform(testy)\n",
    "\n",
    "from sklearn.preprocessing import OrdinalEncoder\n",
    "enc = OrdinalEncoder()\n",
    "testX = enc.fit_transform(testX)\n",
    "testX = pd.DataFrame(testX, columns=colnames) "
   ]
  },
  {
   "cell_type": "code",
   "execution_count": 124,
   "id": "d783a283",
   "metadata": {},
   "outputs": [
    {
     "data": {
      "text/plain": [
       "array([[294, 132, 133,  21],\n",
       "       [215, 417, 140,  43],\n",
       "       [ 86,  21, 579,   1],\n",
       "       [213, 232,   2, 758]])"
      ]
     },
     "execution_count": 124,
     "metadata": {},
     "output_type": "execute_result"
    }
   ],
   "source": [
    "yhattest = model.predict(testX)\n",
    "confM = confusion_matrix(yhattest, testLabels)\n",
    "\n",
    "confM"
   ]
  },
  {
   "cell_type": "code",
   "execution_count": 125,
   "id": "da705f45",
   "metadata": {},
   "outputs": [
    {
     "data": {
      "text/plain": [
       "0.6230605415272285"
      ]
     },
     "execution_count": 125,
     "metadata": {},
     "output_type": "execute_result"
    }
   ],
   "source": [
    "acc = accuracy_score(yhattest, testLabels)\n",
    "\n",
    "acc"
   ]
  },
  {
   "cell_type": "markdown",
   "id": "75e7e984",
   "metadata": {},
   "source": [
    "<br>\n",
    "\n",
    "Naturally the test data also seemed to struggle on the model, being a bit more sloppy than the train data, but this is to be expected.\n",
    "\n",
    "So overall our model has about a 62% chance to accurately guess the season you are in when you give it Phoenix weather data.\n",
    "\n",
    "A bit on the low side. Unfortunate.\n",
    "\n",
    "However, lets go ahead and see if we gave the model every variable collected if that would increase our accuracy scores, using the exact same process.\n",
    "\n",
    "## Retrying Attempt with More Variables"
   ]
  },
  {
   "cell_type": "code",
   "execution_count": 126,
   "id": "fb4063f6",
   "metadata": {},
   "outputs": [
    {
     "data": {
      "text/html": [
       "<div>\n",
       "<style scoped>\n",
       "    .dataframe tbody tr th:only-of-type {\n",
       "        vertical-align: middle;\n",
       "    }\n",
       "\n",
       "    .dataframe tbody tr th {\n",
       "        vertical-align: top;\n",
       "    }\n",
       "\n",
       "    .dataframe thead th {\n",
       "        text-align: right;\n",
       "    }\n",
       "</style>\n",
       "<table border=\"1\" class=\"dataframe\">\n",
       "  <thead>\n",
       "    <tr style=\"text-align: right;\">\n",
       "      <th></th>\n",
       "      <th>Date</th>\n",
       "      <th>Precipitation</th>\n",
       "      <th>PanEvaporation</th>\n",
       "      <th>MeanTemp</th>\n",
       "      <th>MeanWindSpeed</th>\n",
       "      <th>SolarRadiation</th>\n",
       "      <th>FAOShortGrassEto</th>\n",
       "      <th>DaylightStationPressure</th>\n",
       "      <th>DaylightHumidity</th>\n",
       "      <th>SkyCoverage</th>\n",
       "      <th>DaylightTemp</th>\n",
       "      <th>DaylightBroadbandAerosol</th>\n",
       "      <th>WindSpeed</th>\n",
       "      <th>WindDirection</th>\n",
       "      <th>DayIndex</th>\n",
       "      <th>Month</th>\n",
       "      <th>Season</th>\n",
       "    </tr>\n",
       "  </thead>\n",
       "  <tbody>\n",
       "    <tr>\n",
       "      <th>0</th>\n",
       "      <td>10161</td>\n",
       "      <td>0.0</td>\n",
       "      <td>0.22</td>\n",
       "      <td>8.1</td>\n",
       "      <td>118.5</td>\n",
       "      <td>294.8</td>\n",
       "      <td>1.5</td>\n",
       "      <td>97.8</td>\n",
       "      <td>45</td>\n",
       "      <td>0</td>\n",
       "      <td>12.1</td>\n",
       "      <td>0.117</td>\n",
       "      <td>0.4</td>\n",
       "      <td>0</td>\n",
       "      <td>1</td>\n",
       "      <td>1</td>\n",
       "      <td>Winter</td>\n",
       "    </tr>\n",
       "    <tr>\n",
       "      <th>1</th>\n",
       "      <td>10261</td>\n",
       "      <td>0.0</td>\n",
       "      <td>0.25</td>\n",
       "      <td>8.0</td>\n",
       "      <td>121.8</td>\n",
       "      <td>295.4</td>\n",
       "      <td>1.7</td>\n",
       "      <td>98.0</td>\n",
       "      <td>35</td>\n",
       "      <td>0</td>\n",
       "      <td>12.4</td>\n",
       "      <td>0.092</td>\n",
       "      <td>0.0</td>\n",
       "      <td>0</td>\n",
       "      <td>2</td>\n",
       "      <td>1</td>\n",
       "      <td>Winter</td>\n",
       "    </tr>\n",
       "    <tr>\n",
       "      <th>2</th>\n",
       "      <td>10361</td>\n",
       "      <td>0.0</td>\n",
       "      <td>0.32</td>\n",
       "      <td>9.6</td>\n",
       "      <td>171.0</td>\n",
       "      <td>297.9</td>\n",
       "      <td>2.2</td>\n",
       "      <td>98.3</td>\n",
       "      <td>30</td>\n",
       "      <td>0</td>\n",
       "      <td>14.0</td>\n",
       "      <td>0.092</td>\n",
       "      <td>1.8</td>\n",
       "      <td>50</td>\n",
       "      <td>3</td>\n",
       "      <td>1</td>\n",
       "      <td>Winter</td>\n",
       "    </tr>\n",
       "    <tr>\n",
       "      <th>3</th>\n",
       "      <td>10461</td>\n",
       "      <td>0.0</td>\n",
       "      <td>0.27</td>\n",
       "      <td>10.1</td>\n",
       "      <td>110.1</td>\n",
       "      <td>256.1</td>\n",
       "      <td>1.6</td>\n",
       "      <td>98.2</td>\n",
       "      <td>32</td>\n",
       "      <td>2</td>\n",
       "      <td>14.3</td>\n",
       "      <td>0.128</td>\n",
       "      <td>0.7</td>\n",
       "      <td>0</td>\n",
       "      <td>4</td>\n",
       "      <td>1</td>\n",
       "      <td>Winter</td>\n",
       "    </tr>\n",
       "    <tr>\n",
       "      <th>4</th>\n",
       "      <td>10561</td>\n",
       "      <td>0.0</td>\n",
       "      <td>0.35</td>\n",
       "      <td>12.2</td>\n",
       "      <td>167.3</td>\n",
       "      <td>271.0</td>\n",
       "      <td>2.3</td>\n",
       "      <td>97.7</td>\n",
       "      <td>32</td>\n",
       "      <td>5</td>\n",
       "      <td>15.9</td>\n",
       "      <td>0.055</td>\n",
       "      <td>3.3</td>\n",
       "      <td>80</td>\n",
       "      <td>5</td>\n",
       "      <td>1</td>\n",
       "      <td>Winter</td>\n",
       "    </tr>\n",
       "  </tbody>\n",
       "</table>\n",
       "</div>"
      ],
      "text/plain": [
       "    Date  Precipitation  PanEvaporation  MeanTemp  MeanWindSpeed  \\\n",
       "0  10161            0.0            0.22       8.1          118.5   \n",
       "1  10261            0.0            0.25       8.0          121.8   \n",
       "2  10361            0.0            0.32       9.6          171.0   \n",
       "3  10461            0.0            0.27      10.1          110.1   \n",
       "4  10561            0.0            0.35      12.2          167.3   \n",
       "\n",
       "   SolarRadiation  FAOShortGrassEto  DaylightStationPressure  \\\n",
       "0           294.8               1.5                     97.8   \n",
       "1           295.4               1.7                     98.0   \n",
       "2           297.9               2.2                     98.3   \n",
       "3           256.1               1.6                     98.2   \n",
       "4           271.0               2.3                     97.7   \n",
       "\n",
       "   DaylightHumidity  SkyCoverage  DaylightTemp  DaylightBroadbandAerosol  \\\n",
       "0                45            0          12.1                     0.117   \n",
       "1                35            0          12.4                     0.092   \n",
       "2                30            0          14.0                     0.092   \n",
       "3                32            2          14.3                     0.128   \n",
       "4                32            5          15.9                     0.055   \n",
       "\n",
       "   WindSpeed  WindDirection  DayIndex  Month  Season  \n",
       "0        0.4              0         1      1  Winter  \n",
       "1        0.0              0         2      1  Winter  \n",
       "2        1.8             50         3      1  Winter  \n",
       "3        0.7              0         4      1  Winter  \n",
       "4        3.3             80         5      1  Winter  "
      ]
     },
     "execution_count": 126,
     "metadata": {},
     "output_type": "execute_result"
    }
   ],
   "source": [
    "df = pd.read_csv('arizonaWeather.csv', sep=',', index_col=False, header=None, names=[\"Date\", \"Precipitation\", \"PanEvaporation\", \"MeanTemp\", \"MeanWindSpeed\", \"SolarRadiation\", \"FAOShortGrassEto\", \"DaylightStationPressure\", \"DaylightHumidity\", \"SkyCoverage\", \"DaylightTemp\", \"DaylightBroadbandAerosol\", \"WindSpeed\", \"WindDirection\"])\n",
    "\n",
    "# Convert the date to a string for easier parsing\n",
    "df.dtypes\n",
    "dateType = {'Date': str}\n",
    "df = df.astype(dateType)\n",
    "\n",
    "# Create an index to allow the machine to better understand the progression of time\n",
    "# This will allow it to account for potential rises in temperature year over year\n",
    "DayIndex = list(range(1,len(df)+1))\n",
    "df['DayIndex'] = DayIndex\n",
    "\n",
    "# Isolate the month value so that we can determine season\n",
    "Month = list(range(1,len(df)+1))\n",
    "df['Month'] = Month\n",
    "        \n",
    "for i in range(0, len(df)):\n",
    "    dateStr = df.at[i, 'Date']\n",
    "    if (len(dateStr) == 5):\n",
    "        df.at[i, 'Month'] = int(dateStr[0])\n",
    "    else:\n",
    "        df.at[i, 'Month'] = int(dateStr[0]+dateStr[1])\n",
    "\n",
    "# I elected to base season off of the meteorlogical standard (i.e. seasons start on the first of their equinox months)\n",
    "Season = str(list(range(1,len(df)+1)))\n",
    "df['Season'] = Season\n",
    "\n",
    "for i in range(0, len(df)):\n",
    "    #dateDay = df.at[i, 'Day']\n",
    "    dateMonth = df.at[i, 'Month']\n",
    "    if (dateMonth == 12 or dateMonth < 3):\n",
    "        df.at[i, 'Season'] = \"Winter\"\n",
    "    elif (dateMonth >=3 and dateMonth < 6):\n",
    "        df.at[i, 'Season'] = \"Spring\"\n",
    "    elif (dateMonth >=6 and dateMonth < 9):\n",
    "        df.at[i, 'Season'] = \"Summer\"\n",
    "    else:\n",
    "        df.at[i, 'Season'] = \"Autumn\"\n",
    "\n",
    "# Sanity check\n",
    "df.head()"
   ]
  },
  {
   "cell_type": "code",
   "execution_count": 127,
   "id": "7c42d20e",
   "metadata": {},
   "outputs": [
    {
     "name": "stdout",
     "output_type": "stream",
     "text": [
      "(7670, 17)\n",
      "(3287, 17)\n"
     ]
    },
    {
     "data": {
      "text/html": [
       "<div>\n",
       "<style scoped>\n",
       "    .dataframe tbody tr th:only-of-type {\n",
       "        vertical-align: middle;\n",
       "    }\n",
       "\n",
       "    .dataframe tbody tr th {\n",
       "        vertical-align: top;\n",
       "    }\n",
       "\n",
       "    .dataframe thead th {\n",
       "        text-align: right;\n",
       "    }\n",
       "</style>\n",
       "<table border=\"1\" class=\"dataframe\">\n",
       "  <thead>\n",
       "    <tr style=\"text-align: right;\">\n",
       "      <th>Season</th>\n",
       "      <th>Autumn</th>\n",
       "      <th>Spring</th>\n",
       "      <th>Summer</th>\n",
       "      <th>Winter</th>\n",
       "    </tr>\n",
       "    <tr>\n",
       "      <th>row_0</th>\n",
       "      <th></th>\n",
       "      <th></th>\n",
       "      <th></th>\n",
       "      <th></th>\n",
       "    </tr>\n",
       "  </thead>\n",
       "  <tbody>\n",
       "    <tr>\n",
       "      <th>0</th>\n",
       "      <td>1355</td>\n",
       "      <td>69</td>\n",
       "      <td>44</td>\n",
       "      <td>58</td>\n",
       "    </tr>\n",
       "    <tr>\n",
       "      <th>1</th>\n",
       "      <td>63</td>\n",
       "      <td>1515</td>\n",
       "      <td>34</td>\n",
       "      <td>31</td>\n",
       "    </tr>\n",
       "    <tr>\n",
       "      <th>2</th>\n",
       "      <td>201</td>\n",
       "      <td>176</td>\n",
       "      <td>1828</td>\n",
       "      <td>0</td>\n",
       "    </tr>\n",
       "    <tr>\n",
       "      <th>3</th>\n",
       "      <td>303</td>\n",
       "      <td>198</td>\n",
       "      <td>0</td>\n",
       "      <td>1795</td>\n",
       "    </tr>\n",
       "  </tbody>\n",
       "</table>\n",
       "</div>"
      ],
      "text/plain": [
       "Season  Autumn  Spring  Summer  Winter\n",
       "row_0                                 \n",
       "0         1355      69      44      58\n",
       "1           63    1515      34      31\n",
       "2          201     176    1828       0\n",
       "3          303     198       0    1795"
      ]
     },
     "execution_count": 127,
     "metadata": {},
     "output_type": "execute_result"
    }
   ],
   "source": [
    "np.random.seed(657)\n",
    "data_randomized = df.sample(frac=1)\n",
    "\n",
    "trainsize = round(len(data_randomized) * 0.70)\n",
    "\n",
    "# Split into training and test sets\n",
    "training_set = data_randomized[:trainsize].reset_index(drop=True)\n",
    "test_set = data_randomized[trainsize:].reset_index(drop=True)\n",
    "\n",
    "print(training_set.shape)\n",
    "print(test_set.shape)\n",
    "\n",
    "trainX = training_set.iloc[:,1:-2]\n",
    "trainy = training_set['Season']\n",
    "\n",
    "colnames = trainX.columns\n",
    "\n",
    "testX = test_set.iloc[:,1:-2]\n",
    "testy = test_set['Season']\n",
    "\n",
    "from sklearn.preprocessing import LabelEncoder\n",
    "le = LabelEncoder()\n",
    "trainLabels = le.fit_transform(trainy)\n",
    "\n",
    "from sklearn.preprocessing import OrdinalEncoder\n",
    "enc = OrdinalEncoder() \n",
    "trainX = enc.fit_transform(trainX)\n",
    "trainX = pd.DataFrame(trainX, columns=colnames) \n",
    "\n",
    "model = CategoricalNB() \n",
    "model.fit(trainX,trainLabels) \n",
    "\n",
    "yhattrain = model.predict(trainX)\n",
    "pd.crosstab(yhattrain, trainy)"
   ]
  },
  {
   "cell_type": "code",
   "execution_count": 128,
   "id": "dd9b7583",
   "metadata": {},
   "outputs": [
    {
     "data": {
      "text/plain": [
       "0.8465449804432855"
      ]
     },
     "execution_count": 128,
     "metadata": {},
     "output_type": "execute_result"
    }
   ],
   "source": [
    "accuracy_score(yhattrain, trainLabels)"
   ]
  },
  {
   "cell_type": "code",
   "execution_count": 129,
   "id": "3ffaac77",
   "metadata": {},
   "outputs": [
    {
     "data": {
      "text/plain": [
       "array([[374, 211, 129,  35],\n",
       "       [133, 379, 158,  12],\n",
       "       [ 56,  37, 565,   0],\n",
       "       [245, 175,   2, 776]])"
      ]
     },
     "execution_count": 129,
     "metadata": {},
     "output_type": "execute_result"
    }
   ],
   "source": [
    "le = LabelEncoder() \n",
    "testLabels = le.fit_transform(testy)\n",
    "\n",
    "from sklearn.preprocessing import OrdinalEncoder\n",
    "enc = OrdinalEncoder()\n",
    "testX = enc.fit_transform(testX)\n",
    "testX = pd.DataFrame(testX, columns=colnames) \n",
    "\n",
    "yhattest = model.predict(testX)\n",
    "confM = confusion_matrix(yhattest, testLabels)\n",
    "\n",
    "confM"
   ]
  },
  {
   "cell_type": "code",
   "execution_count": 130,
   "id": "3b32c64e",
   "metadata": {},
   "outputs": [
    {
     "data": {
      "text/plain": [
       "0.6370550654091877"
      ]
     },
     "execution_count": 130,
     "metadata": {},
     "output_type": "execute_result"
    }
   ],
   "source": [
    "acc = accuracy_score(yhattest, testLabels)\n",
    "\n",
    "acc"
   ]
  },
  {
   "cell_type": "markdown",
   "id": "5b5c89cc",
   "metadata": {},
   "source": [
    "<br>\n",
    "Overall, it only improved the model by 1% which is unfortunate, however the training model improved by 5%! It seems to also better differentiate between Autumn and Spring but still struggles to seperate them from the extremes. But once again, it seems to know the difference between Winter and Summer.\n",
    "\n",
    "This method yielded a much better result than our k nearest neighbors attempt which is exciting because it encourages further research into this method. \n",
    "\n",
    "Just to make sure we arent overfitting the data, lets try one more attempt but with only variables that you could get from simple values that can be quickly obtained from a weather report.\n",
    "\n",
    "## Retrying Attempt with Less Variables"
   ]
  },
  {
   "cell_type": "code",
   "execution_count": 133,
   "id": "30bcc8db",
   "metadata": {},
   "outputs": [
    {
     "data": {
      "text/html": [
       "<div>\n",
       "<style scoped>\n",
       "    .dataframe tbody tr th:only-of-type {\n",
       "        vertical-align: middle;\n",
       "    }\n",
       "\n",
       "    .dataframe tbody tr th {\n",
       "        vertical-align: top;\n",
       "    }\n",
       "\n",
       "    .dataframe thead th {\n",
       "        text-align: right;\n",
       "    }\n",
       "</style>\n",
       "<table border=\"1\" class=\"dataframe\">\n",
       "  <thead>\n",
       "    <tr style=\"text-align: right;\">\n",
       "      <th></th>\n",
       "      <th>Date</th>\n",
       "      <th>Precipitation</th>\n",
       "      <th>MeanTemp</th>\n",
       "      <th>DaylightHumidity</th>\n",
       "      <th>DaylightTemp</th>\n",
       "      <th>DayIndex</th>\n",
       "      <th>Month</th>\n",
       "      <th>Season</th>\n",
       "    </tr>\n",
       "  </thead>\n",
       "  <tbody>\n",
       "    <tr>\n",
       "      <th>0</th>\n",
       "      <td>10161</td>\n",
       "      <td>0.0</td>\n",
       "      <td>8.1</td>\n",
       "      <td>45</td>\n",
       "      <td>12.1</td>\n",
       "      <td>1</td>\n",
       "      <td>1</td>\n",
       "      <td>Winter</td>\n",
       "    </tr>\n",
       "    <tr>\n",
       "      <th>1</th>\n",
       "      <td>10261</td>\n",
       "      <td>0.0</td>\n",
       "      <td>8.0</td>\n",
       "      <td>35</td>\n",
       "      <td>12.4</td>\n",
       "      <td>2</td>\n",
       "      <td>1</td>\n",
       "      <td>Winter</td>\n",
       "    </tr>\n",
       "    <tr>\n",
       "      <th>2</th>\n",
       "      <td>10361</td>\n",
       "      <td>0.0</td>\n",
       "      <td>9.6</td>\n",
       "      <td>30</td>\n",
       "      <td>14.0</td>\n",
       "      <td>3</td>\n",
       "      <td>1</td>\n",
       "      <td>Winter</td>\n",
       "    </tr>\n",
       "    <tr>\n",
       "      <th>3</th>\n",
       "      <td>10461</td>\n",
       "      <td>0.0</td>\n",
       "      <td>10.1</td>\n",
       "      <td>32</td>\n",
       "      <td>14.3</td>\n",
       "      <td>4</td>\n",
       "      <td>1</td>\n",
       "      <td>Winter</td>\n",
       "    </tr>\n",
       "    <tr>\n",
       "      <th>4</th>\n",
       "      <td>10561</td>\n",
       "      <td>0.0</td>\n",
       "      <td>12.2</td>\n",
       "      <td>32</td>\n",
       "      <td>15.9</td>\n",
       "      <td>5</td>\n",
       "      <td>1</td>\n",
       "      <td>Winter</td>\n",
       "    </tr>\n",
       "  </tbody>\n",
       "</table>\n",
       "</div>"
      ],
      "text/plain": [
       "    Date  Precipitation  MeanTemp  DaylightHumidity  DaylightTemp  DayIndex  \\\n",
       "0  10161            0.0       8.1                45          12.1         1   \n",
       "1  10261            0.0       8.0                35          12.4         2   \n",
       "2  10361            0.0       9.6                30          14.0         3   \n",
       "3  10461            0.0      10.1                32          14.3         4   \n",
       "4  10561            0.0      12.2                32          15.9         5   \n",
       "\n",
       "   Month  Season  \n",
       "0      1  Winter  \n",
       "1      1  Winter  \n",
       "2      1  Winter  \n",
       "3      1  Winter  \n",
       "4      1  Winter  "
      ]
     },
     "execution_count": 133,
     "metadata": {},
     "output_type": "execute_result"
    }
   ],
   "source": [
    "df = pd.read_csv('arizonaWeather.csv', sep=',', index_col=False, header=None, names=[\"Date\", \"Precipitation\", \"PanEvaporation\", \"MeanTemp\", \"MeanWindSpeed\", \"SolarRadiation\", \"FAOShortGrassEto\", \"DaylightStationPressure\", \"DaylightHumidity\", \"SkyCoverage\", \"DaylightTemp\", \"DaylightBroadbandAerosol\", \"WindSpeed\", \"WindDirection\"])\n",
    "\n",
    "df = df.drop(['PanEvaporation','MeanWindSpeed','SolarRadiation','SkyCoverage','FAOShortGrassEto','DaylightStationPressure','DaylightBroadbandAerosol','WindSpeed','WindDirection'], axis = 1)\n",
    "\n",
    "# Convert the date to a string for easier parsing\n",
    "df.dtypes\n",
    "dateType = {'Date': str}\n",
    "df = df.astype(dateType)\n",
    "\n",
    "# Create an index to allow the machine to better understand the progression of time\n",
    "# This will allow it to account for potential rises in temperature year over year\n",
    "DayIndex = list(range(1,len(df)+1))\n",
    "df['DayIndex'] = DayIndex\n",
    "\n",
    "# Isolate the month value so that we can determine season\n",
    "Month = list(range(1,len(df)+1))\n",
    "df['Month'] = Month\n",
    "        \n",
    "for i in range(0, len(df)):\n",
    "    dateStr = df.at[i, 'Date']\n",
    "    if (len(dateStr) == 5):\n",
    "        df.at[i, 'Month'] = int(dateStr[0])\n",
    "    else:\n",
    "        df.at[i, 'Month'] = int(dateStr[0]+dateStr[1])\n",
    "\n",
    "# I elected to base season off of the meteorlogical standard (i.e. seasons start on the first of their equinox months)\n",
    "Season = str(list(range(1,len(df)+1)))\n",
    "df['Season'] = Season\n",
    "\n",
    "for i in range(0, len(df)):\n",
    "    #dateDay = df.at[i, 'Day']\n",
    "    dateMonth = df.at[i, 'Month']\n",
    "    if (dateMonth == 12 or dateMonth < 3):\n",
    "        df.at[i, 'Season'] = \"Winter\"\n",
    "    elif (dateMonth >=3 and dateMonth < 6):\n",
    "        df.at[i, 'Season'] = \"Spring\"\n",
    "    elif (dateMonth >=6 and dateMonth < 9):\n",
    "        df.at[i, 'Season'] = \"Summer\"\n",
    "    else:\n",
    "        df.at[i, 'Season'] = \"Autumn\"\n",
    "\n",
    "# Sanity check\n",
    "df.head()"
   ]
  },
  {
   "cell_type": "code",
   "execution_count": 134,
   "id": "dd7f5eb8",
   "metadata": {},
   "outputs": [
    {
     "name": "stdout",
     "output_type": "stream",
     "text": [
      "(7670, 8)\n",
      "(3287, 8)\n"
     ]
    },
    {
     "data": {
      "text/html": [
       "<div>\n",
       "<style scoped>\n",
       "    .dataframe tbody tr th:only-of-type {\n",
       "        vertical-align: middle;\n",
       "    }\n",
       "\n",
       "    .dataframe tbody tr th {\n",
       "        vertical-align: top;\n",
       "    }\n",
       "\n",
       "    .dataframe thead th {\n",
       "        text-align: right;\n",
       "    }\n",
       "</style>\n",
       "<table border=\"1\" class=\"dataframe\">\n",
       "  <thead>\n",
       "    <tr style=\"text-align: right;\">\n",
       "      <th>Season</th>\n",
       "      <th>Autumn</th>\n",
       "      <th>Spring</th>\n",
       "      <th>Summer</th>\n",
       "      <th>Winter</th>\n",
       "    </tr>\n",
       "    <tr>\n",
       "      <th>row_0</th>\n",
       "      <th></th>\n",
       "      <th></th>\n",
       "      <th></th>\n",
       "      <th></th>\n",
       "    </tr>\n",
       "  </thead>\n",
       "  <tbody>\n",
       "    <tr>\n",
       "      <th>0</th>\n",
       "      <td>1151</td>\n",
       "      <td>67</td>\n",
       "      <td>73</td>\n",
       "      <td>45</td>\n",
       "    </tr>\n",
       "    <tr>\n",
       "      <th>1</th>\n",
       "      <td>173</td>\n",
       "      <td>1403</td>\n",
       "      <td>87</td>\n",
       "      <td>107</td>\n",
       "    </tr>\n",
       "    <tr>\n",
       "      <th>2</th>\n",
       "      <td>287</td>\n",
       "      <td>133</td>\n",
       "      <td>1746</td>\n",
       "      <td>0</td>\n",
       "    </tr>\n",
       "    <tr>\n",
       "      <th>3</th>\n",
       "      <td>311</td>\n",
       "      <td>355</td>\n",
       "      <td>0</td>\n",
       "      <td>1732</td>\n",
       "    </tr>\n",
       "  </tbody>\n",
       "</table>\n",
       "</div>"
      ],
      "text/plain": [
       "Season  Autumn  Spring  Summer  Winter\n",
       "row_0                                 \n",
       "0         1151      67      73      45\n",
       "1          173    1403      87     107\n",
       "2          287     133    1746       0\n",
       "3          311     355       0    1732"
      ]
     },
     "execution_count": 134,
     "metadata": {},
     "output_type": "execute_result"
    }
   ],
   "source": [
    "np.random.seed(657)\n",
    "data_randomized = df.sample(frac=1)\n",
    "\n",
    "trainsize = round(len(data_randomized) * 0.70)\n",
    "\n",
    "# Split into training and test sets\n",
    "training_set = data_randomized[:trainsize].reset_index(drop=True)\n",
    "test_set = data_randomized[trainsize:].reset_index(drop=True)\n",
    "\n",
    "print(training_set.shape)\n",
    "print(test_set.shape)\n",
    "\n",
    "trainX = training_set.iloc[:,1:-2]\n",
    "trainy = training_set['Season']\n",
    "\n",
    "colnames = trainX.columns\n",
    "\n",
    "testX = test_set.iloc[:,1:-2]\n",
    "testy = test_set['Season']\n",
    "\n",
    "from sklearn.preprocessing import LabelEncoder\n",
    "le = LabelEncoder()\n",
    "trainLabels = le.fit_transform(trainy)\n",
    "\n",
    "from sklearn.preprocessing import OrdinalEncoder\n",
    "enc = OrdinalEncoder() \n",
    "trainX = enc.fit_transform(trainX)\n",
    "trainX = pd.DataFrame(trainX, columns=colnames) \n",
    "\n",
    "model = CategoricalNB() \n",
    "model.fit(trainX,trainLabels) \n",
    "\n",
    "yhattrain = model.predict(trainX)\n",
    "pd.crosstab(yhattrain, trainy)"
   ]
  },
  {
   "cell_type": "code",
   "execution_count": 135,
   "id": "4aff5eab",
   "metadata": {},
   "outputs": [
    {
     "data": {
      "text/plain": [
       "0.7864406779661017"
      ]
     },
     "execution_count": 135,
     "metadata": {},
     "output_type": "execute_result"
    }
   ],
   "source": [
    "accuracy_score(yhattrain, trainLabels)"
   ]
  },
  {
   "cell_type": "code",
   "execution_count": 136,
   "id": "5b1477fc",
   "metadata": {},
   "outputs": [
    {
     "data": {
      "text/plain": [
       "array([[277, 146, 130,  17],\n",
       "       [223, 385, 122,  44],\n",
       "       [ 88,  24, 601,   1],\n",
       "       [220, 247,   1, 761]])"
      ]
     },
     "execution_count": 136,
     "metadata": {},
     "output_type": "execute_result"
    }
   ],
   "source": [
    "le = LabelEncoder() \n",
    "testLabels = le.fit_transform(testy)\n",
    "\n",
    "from sklearn.preprocessing import OrdinalEncoder\n",
    "enc = OrdinalEncoder()\n",
    "testX = enc.fit_transform(testX)\n",
    "testX = pd.DataFrame(testX, columns=colnames) \n",
    "\n",
    "yhattest = model.predict(testX)\n",
    "confM = confusion_matrix(yhattest, testLabels)\n",
    "\n",
    "confM"
   ]
  },
  {
   "cell_type": "code",
   "execution_count": 137,
   "id": "d7d7cc66",
   "metadata": {},
   "outputs": [
    {
     "data": {
      "text/plain": [
       "0.6157590508062063"
      ]
     },
     "execution_count": 137,
     "metadata": {},
     "output_type": "execute_result"
    }
   ],
   "source": [
    "acc = accuracy_score(yhattest, testLabels)\n",
    "\n",
    "acc"
   ]
  },
  {
   "cell_type": "markdown",
   "id": "5be8fda4",
   "metadata": {},
   "source": [
    "## Review\n",
    "\n",
    "So as we can see, with less variables the accuracy did go down. This could be due to the fact that we chose the wrong variables to evaluate, but the purpose of this model was also to make it as simple as possible to someone who is not as adept at meteorology. This model still exhibits similar characteristics as the ones before it, but obviously just a tad worse.\n",
    "\n",
    "I'm sure with different variables or perhaps a broader set of data, this classifier could be even more accurate. But until then, this was a fun little exploration into weather predictions."
   ]
  }
 ],
 "metadata": {
  "kernelspec": {
   "display_name": "Python 3",
   "language": "python",
   "name": "python3"
  },
  "language_info": {
   "codemirror_mode": {
    "name": "ipython",
    "version": 3
   },
   "file_extension": ".py",
   "mimetype": "text/x-python",
   "name": "python",
   "nbconvert_exporter": "python",
   "pygments_lexer": "ipython3",
   "version": "3.8.10"
  }
 },
 "nbformat": 4,
 "nbformat_minor": 5
}
